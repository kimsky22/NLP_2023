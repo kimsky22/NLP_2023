{
  "nbformat": 4,
  "nbformat_minor": 0,
  "metadata": {
    "colab": {
      "provenance": [],
      "include_colab_link": true
    },
    "kernelspec": {
      "name": "python3",
      "display_name": "Python 3"
    },
    "language_info": {
      "name": "python"
    }
  },
  "cells": [
    {
      "cell_type": "markdown",
      "metadata": {
        "id": "view-in-github",
        "colab_type": "text"
      },
      "source": [
        "<a href=\"https://colab.research.google.com/github/kimsky22/NLP_2023/blob/main/STT_WER.ipynb\" target=\"_parent\"><img src=\"https://colab.research.google.com/assets/colab-badge.svg\" alt=\"Open In Colab\"/></a>"
      ]
    },
    {
      "cell_type": "markdown",
      "source": [
        "## 🐹 🐾  <font color = 'red'>**TTS (Text-to-Speech)**\n",
        "\n",
        "### 📌 Precondition:\n",
        "Define your own functions and include them in your code lines.\n",
        "\n",
        "🔍 [about Functions](https://github.com/ms624atyale/Python_Basics/blob/main/8_DefiningFunctions.ipynb)\n",
        "\n",
        "#### **Step 0**: Install gTTS package.\n",
        "\n",
        "     🎧 🔉 TTS (text-to-speech) with multiple accents available\n",
        "     \n",
        "     How to use:\n",
        "     1. Install the gTTS package 🏫 (**code line**: !pip install gTTS)\n",
        "        * The gTTS library is a Python wrapper for the Google Text-to-Speech(TTS)\n",
        "        API(Application Programming Interface). It allows you to convert text into speech using Google's text-to-speech service.\n",
        "        * The gTTS library provides a convenient way to generate speech from text by utilizing the power\n",
        "        of Google's TTS engine. It allows you to specify the text to be converted, choose the desired\n",
        "        language, and control various parameters such as the speed of speech.\n",
        "\n",
        "     2. Import subordinate units (modues🎁 and  functions [📎📐][🏀⚽⚾][📕📗📘📙])\n",
        "\n",
        "     3. Select an accent of your choice among English (en), French (fr), Korean (ko), and Spanish (es).\n",
        "\n",
        "     4. Enter a text, and generate and save a wave file.\n",
        "\n",
        "     5. Play the wave file.\n",
        "\n",
        ">\n",
        "\n",
        "    Commonly used language codes supported by the gTTS\n",
        "    * Afrikaans: \"af\"    * Albanian: \"sq\"\n",
        "    * Arabic: \"ar\"       * Bengali: \"bn\"\n",
        "    * Catalan: \"ca\"      * Chinese (Simplified): \"zh-cn\"\n",
        "    * Chinese (Traditional): \"zh-tw\"     * Croatian: \"hr\"\n",
        "    * Czech: \"cs\"        * Danish: \"da\"\n",
        "    * Dutch: \"nl\"        * English: \"en\"\n",
        "    * Esperanto: \"eo\"    * Estonian: \"et\"\n",
        "    * Filipino: \"tl\"     * Finnish: \"fi\"\n",
        "    * French: \"fr\"       * German: \"de\"\n",
        "    * Greek: \"el\"        * Hindi: \"hi\"\n",
        "    * Hungarian: \"hu\"    * Icelandic: \"is\"\n",
        "    * Indonesian: \"id\".  * Irish: \"ga\"\n",
        "    * Italian: \"it\".     * Japanese: \"ja\"\n",
        "    * Korean: \"ko\"       * Latin: \"la\"\n",
        "    * Latvian: \"lv\"      * Lithuanian: \"lt\"\n",
        "    * Macedonian: \"mk\".  * Malay: \"ms\"\n",
        "    * Maltese: \"mt\".     * Norwegian: \"no\"\n",
        "    * Polish: \"pl\"       * Portuguese: \"pt\"\n",
        "    * Romanian: \"ro\".    * Russian: \"ru\"\n",
        "    * Serbian: \"sr\".     * Slovak: \"sk\"\n",
        "    * Slovenian: \"sl\".   * Spanish: \"es\"\n",
        "    * Swahili: \"sw\".     * Swedish: \"sv\"\n",
        "    * Tamil: \"ta\".       * Telugu: \"te\"\n",
        "    * Thai: \"th\".        * Turkish: \"tr\"\n",
        "    * Ukrainian: \"uk\".   * Urdu: \"ur\"\n",
        "    * Vietnamese: \"vi\".  * Welsh: \"cy\"\n",
        "    * Zulu: \"zu\"\n"
      ],
      "metadata": {
        "id": "yBYKRnFWfXGD"
      }
    },
    {
      "cell_type": "code",
      "source": [
        "#@markdown **Step 1 with annotations**: Install the **gTTS** packages and import its relevant modules and functions\n",
        "\n",
        "#@markdown [IPython & Shell](\"https://github.com/ms624atyale/Python_Basics/blob/main/ChatGPT_1_IPython_Shell.ipynb\")\n",
        "\n",
        "!pip install gTTS\n",
        "from gtts import gTTS #gTTS패키지에서 gTTS모듈을 불러들여라.\n",
        "from IPython.display import Audio #IPython.display모듈에서 Audio함수를 호출한다."
      ],
      "metadata": {
        "colab": {
          "base_uri": "https://localhost:8080/"
        },
        "cellView": "form",
        "id": "AFyY_FrUFhzv",
        "outputId": "a0cc8f83-feb9-4a4c-8004-aa7348d92d36"
      },
      "execution_count": null,
      "outputs": [
        {
          "output_type": "stream",
          "name": "stdout",
          "text": [
            "Collecting gTTS\n",
            "  Downloading gTTS-2.5.4-py3-none-any.whl.metadata (4.1 kB)\n",
            "Requirement already satisfied: requests<3,>=2.27 in /usr/local/lib/python3.10/dist-packages (from gTTS) (2.32.3)\n",
            "Requirement already satisfied: click<8.2,>=7.1 in /usr/local/lib/python3.10/dist-packages (from gTTS) (8.1.7)\n",
            "Requirement already satisfied: charset-normalizer<4,>=2 in /usr/local/lib/python3.10/dist-packages (from requests<3,>=2.27->gTTS) (3.4.0)\n",
            "Requirement already satisfied: idna<4,>=2.5 in /usr/local/lib/python3.10/dist-packages (from requests<3,>=2.27->gTTS) (3.10)\n",
            "Requirement already satisfied: urllib3<3,>=1.21.1 in /usr/local/lib/python3.10/dist-packages (from requests<3,>=2.27->gTTS) (2.2.3)\n",
            "Requirement already satisfied: certifi>=2017.4.17 in /usr/local/lib/python3.10/dist-packages (from requests<3,>=2.27->gTTS) (2024.8.30)\n",
            "Downloading gTTS-2.5.4-py3-none-any.whl (29 kB)\n",
            "Installing collected packages: gTTS\n",
            "Successfully installed gTTS-2.5.4\n"
          ]
        }
      ]
    },
    {
      "cell_type": "code",
      "source": [
        "#@markdown **Step 2 with annotations**: Define a function that enables a user to i) select an accent, ii) generate a wave file, and iii) spit out a corresponding play window.\n",
        "\n",
        "def tts(text):\n",
        "  text_to_speech = text\n",
        "  language=\"en\" #@param[\"en\",\"fr\",\"ko\",\"es\",\"de\",\"hi\",\"ja\",\"it\"]\n",
        "\n",
        "\n",
        "  gtts_object = gTTS(text = text_to_speech,\n",
        "                     lang = language,\n",
        "                     slow = False)\n",
        "  gtts_object.save(\"myaudio.wav\") #gtts_object변수를 save모듈 사용하여 'myaudio.wav'로 저장하기\n",
        "  return Audio(\"myaudio.wav\") #Audio함수를 사용하여 'myaudio.wav'를 반환하라."
      ],
      "metadata": {
        "cellView": "form",
        "id": "paJAp9gzgEiT"
      },
      "execution_count": null,
      "outputs": []
    },
    {
      "cell_type": "code",
      "source": [
        "#@markdown **Step 3 with annotations**: Type in (or copy & past) any texts of yoour interest in the input box.\n",
        "\n",
        "#@markdown <font size='2.8'>[Type-in example] : <font color='red'> _finally she administered ether_\n",
        "text_to_speech = input('Enter a text you would like to hear:')\n",
        "txt = str(text_to_speech) #str함수에 입력된 텍스트를 인자로 넣어, 이를 txt변수에 할당.\n",
        "print(\"Help: Three dots in the audio window provide various playback speed. The default is set up for normal.\")\n",
        "tts(txt) #tts함수에 txt변수를 인자로 넣기"
      ],
      "metadata": {
        "id": "dQ-OMssWgRK0"
      },
      "execution_count": null,
      "outputs": []
    },
    {
      "cell_type": "markdown",
      "source": [
        "## 😉 🐹 🐾 **Automatic Speech Recognition (STT) combined with Word Error Rate**"
      ],
      "metadata": {
        "id": "r19u6FaMgapA"
      }
    },
    {
      "cell_type": "markdown",
      "source": [
        "<font color = 'red'> **WER = Error words (Substitutions + Deletions + Insertions) / Total Reference Words**\n",
        "\n",
        "**Interpretation:** A lower WER indicates better performance, with 0\n",
        "representing perfect transcription and 1 complete misrecognition,\n",
        "potentially exceeding 1 with more insertions.\n",
        "\n",
        "    - To convert human speech in wave format to text using Automatic Speech Recognition (ASR)\n",
        "    or Speech-to-Text (STT) technology, you can utilize the SpeechRecognition library in Python.\n",
        "    This library provides an interface to several popular STT engines. Here's an example code snippet:\n",
        "    In this example, the convert_speech_to_text() function takes the path to the WAV audio file as input\n",
        "    and returns the recognized text. It uses the speech_recognition library to create a Recognizer instance.\n",
        "    The audio file is loaded using sr.AudioFile, and the record() method is used to extract the audio data.\n",
        "    \n",
        "    - The recognize_google() method is used with the Google Speech Recognition API to perform the speech-to-text\n",
        "    conversion. This requires an internet connection and may be subject to usage limits and terms of service.\n",
        "\n",
        "    - Replace \"path/to/your/audio.wav\" with the actual path to your WAV audio file. After running the code,\n",
        "    the recognized text will be printed to the console.\n",
        "\n",
        "    - Note that the accuracy of speech recognition can vary depending on factors such as audio quality,\n",
        "    background noise, speaker accent, and the specific STT engine being used."
      ],
      "metadata": {
        "id": "P419Y8oPTr8y"
      }
    },
    {
      "cell_type": "markdown",
      "source": [
        "###<font color = 'green'> **🐹 👀 Demonstraion for an example**"
      ],
      "metadata": {
        "id": "lZSCtbAgHwHX"
      }
    },
    {
      "cell_type": "code",
      "source": [
        "#subj1_sent_rep1_compressed\n",
        "\n",
        "!pip install python-Levenshtein\n",
        "import Levenshtein\n",
        "\n",
        "def calculate_wer(reference, hypothesis):\n",
        "    reference_words = reference.split()\n",
        "    hypothesis_words = hypothesis.split()\n",
        "\n",
        "    # Compute Levenshtein distance between the reference and hypothesis\n",
        "    distance = Levenshtein.distance(reference_words, hypothesis_words)\n",
        "\n",
        "    # Calculate Word Error Rate (WER)\n",
        "    wer = distance / len(reference_words)\n",
        "    return wer\n",
        "\n",
        "# Example usage\n",
        "reference_text0 = \"finally she administered ether\"\n",
        "hypothesis_text0 = \"finally she administered ether\"\n",
        "wer1 = calculate_wer(reference_text0, hypothesis_text0)\n",
        "print(f\"Word Error Rate (WER): {wer1}\")"
      ],
      "metadata": {
        "colab": {
          "base_uri": "https://localhost:8080/"
        },
        "id": "ql57aIm6iNbE",
        "outputId": "137f2c2a-93f2-4b7f-9a36-c265b4bda0a0"
      },
      "execution_count": null,
      "outputs": [
        {
          "output_type": "stream",
          "name": "stdout",
          "text": [
            "Collecting python-Levenshtein\n",
            "  Downloading python_Levenshtein-0.26.1-py3-none-any.whl.metadata (3.7 kB)\n",
            "Collecting Levenshtein==0.26.1 (from python-Levenshtein)\n",
            "  Downloading levenshtein-0.26.1-cp310-cp310-manylinux_2_17_x86_64.manylinux2014_x86_64.whl.metadata (3.2 kB)\n",
            "Collecting rapidfuzz<4.0.0,>=3.9.0 (from Levenshtein==0.26.1->python-Levenshtein)\n",
            "  Downloading rapidfuzz-3.10.1-cp310-cp310-manylinux_2_17_x86_64.manylinux2014_x86_64.whl.metadata (11 kB)\n",
            "Downloading python_Levenshtein-0.26.1-py3-none-any.whl (9.4 kB)\n",
            "Downloading levenshtein-0.26.1-cp310-cp310-manylinux_2_17_x86_64.manylinux2014_x86_64.whl (162 kB)\n",
            "\u001b[2K   \u001b[90m━━━━━━━━━━━━━━━━━━━━━━━━━━━━━━━━━━━━━━━━\u001b[0m \u001b[32m162.6/162.6 kB\u001b[0m \u001b[31m3.6 MB/s\u001b[0m eta \u001b[36m0:00:00\u001b[0m\n",
            "\u001b[?25hDownloading rapidfuzz-3.10.1-cp310-cp310-manylinux_2_17_x86_64.manylinux2014_x86_64.whl (3.1 MB)\n",
            "\u001b[2K   \u001b[90m━━━━━━━━━━━━━━━━━━━━━━━━━━━━━━━━━━━━━━━━\u001b[0m \u001b[32m3.1/3.1 MB\u001b[0m \u001b[31m35.8 MB/s\u001b[0m eta \u001b[36m0:00:00\u001b[0m\n",
            "\u001b[?25hInstalling collected packages: rapidfuzz, Levenshtein, python-Levenshtein\n",
            "Successfully installed Levenshtein-0.26.1 python-Levenshtein-0.26.1 rapidfuzz-3.10.1\n",
            "Word Error Rate (WER): 0.0\n"
          ]
        }
      ]
    },
    {
      "cell_type": "code",
      "execution_count": null,
      "metadata": {
        "id": "tCu_W_eg-n4N"
      },
      "outputs": [],
      "source": [
        "!pip install SpeechRecognition\n",
        "\n",
        "import os\n",
        "import speech_recognition as sr\n",
        "\n",
        "def convert_speech_to_text(audio_file):\n",
        "    recognizer = sr.Recognizer()\n",
        "\n",
        "    with sr.AudioFile(audio_file) as source:\n",
        "        audio = recognizer.record(source)  # Load the audio file\n",
        "\n",
        "    text = recognizer.recognize_google(audio)  # Use Google Speech Recognition API\n",
        "\n",
        "    return text\n",
        "\n",
        "def count_words(text):\n",
        "    words = text.split()  # Split the text into words\n",
        "    return len(words)    # Return the count of words\n",
        "\n",
        "# Path to the folder containing the WAV files\n",
        "folder_path = \"/content/comma1\"\n",
        "\n",
        "# Iterate over the files in the folder\n",
        "for filename in os.listdir(folder_path):\n",
        "    if filename.endswith(\".wav\"):\n",
        "        audio_file = os.path.join(folder_path, filename)\n",
        "\n",
        "        converted_text = convert_speech_to_text(audio_file)  # Convert speech to text\n",
        "\n",
        "        word_count = count_words(converted_text)  # Count the words in the converted text\n",
        "\n",
        "        print(f\"File: {filename}\")\n",
        "        print(f\"Text: {converted_text}\")\n",
        "        print(f\"Word Count: {word_count}\\n\")\n"
      ]
    },
    {
      "cell_type": "markdown",
      "source": [
        "### **💋👂 🔉 Compare each speaker's utterance with the reference text.**\n",
        "\n",
        "- Here I used sentence tokens from 10 speakers.\n",
        "- The reference text is \"finally she administed ether\" 마침내 그녀는 에테르를 투여했다."
      ],
      "metadata": {
        "id": "zwI3d0XUJdmI"
      }
    },
    {
      "cell_type": "code",
      "source": [
        "!pip install python-Levenshtein\n",
        "import Levenshtein\n",
        "\n",
        "def calculate_wer(reference, hypothesis):\n",
        "    reference_words = reference.split()\n",
        "    hypothesis_words = hypothesis.split()\n",
        "\n",
        "    # Compute Levenshtein distance between the reference and hypothesis\n",
        "    distance = Levenshtein.distance(reference_words, hypothesis_words)\n",
        "\n",
        "    # Calculate Word Error Rate (WER)\n",
        "    wer = distance / len(reference_words)\n",
        "    return wer\n",
        "\n",
        "#Compare hypothesis with reference\n",
        "\n",
        "reference_text0 = \"finally she administered ether\"\n",
        "hypothesis_text0 = \"finally she administered ether\"\n",
        "wer1 = calculate_wer(reference_text0, hypothesis_text0)\n",
        "print(f\"Word Error Rate (WER): {wer1}\")\n",
        "\n",
        "reference_text1 = \"finally, she administered ether\"\n",
        "hypothesis_text1 = \"finally she admitted either\"\n",
        "wer1 = calculate_wer(reference_text1, hypothesis_text1)\n",
        "print(f\"Word Error Rate (WER): {wer1}\")\n",
        "\n",
        "reference_text2 = \"Finally, she administered ether\"\n",
        "hypothesis_text2 = \"finally she administered either\"\n",
        "wer2 = calculate_wer(reference_text2, hypothesis_text2)\n",
        "print(f\"Word Error Rate (WER): {wer2}\")\n",
        "\n",
        "reference_text3 = \"finally, she administered ether\"\n",
        "hypothesis_text3 = \"finally she ultimately\"\n",
        "wer3 = calculate_wer(reference_text3, hypothesis_text3)\n",
        "print(f\"Word Error Rate (WER): {wer3}\")\n",
        "\n",
        "reference_text4 = \"finally, she administered ether\"\n",
        "hypothesis_text4 = \"finally she old manuscript eater\"\n",
        "wer4 = calculate_wer(reference_text4, hypothesis_text4)\n",
        "print(f\"Word Error Rate (WER): {wer4}\")\n",
        "\n",
        "reference_text5 = \"finally, she administered ether\"\n",
        "hypothesis_text5 = \"finally she administer either\"\n",
        "wer5 = calculate_wer(reference_text5, hypothesis_text5)\n",
        "print(f\"Word Error Rate (WER): {wer5}\")\n",
        "\n",
        "reference_text6 = \"finally, she administered ether\"\n",
        "hypothesis_text6 = \"finally she organized 308 either\"\n",
        "wer6 = calculate_wer(reference_text6, hypothesis_text6)\n",
        "print(f\"Word Error Rate (WER): {wer6}\")\n",
        "\n",
        "reference_text7 = \"finally, she administered ether\"\n",
        "hypothesis_text7 = \"binary show The Mystery Theater\"\n",
        "wer7 = calculate_wer(reference_text7, hypothesis_text7)\n",
        "print(f\"Word Error Rate (WER): {wer7}\")\n",
        "\n",
        "reference_text8 = \"finally, she administered ether\"\n",
        "hypothesis_text8 = \"finally she administered either\"\n",
        "wer8 = calculate_wer(reference_text8, hypothesis_text8)\n",
        "print(f\"Word Error Rate (WER): {wer8}\")\n",
        "\n",
        "reference_text9 = \"finally, she administered ether\"\n",
        "hypothesis_text9 = \"finally she ordered Minister either\"\n",
        "wer9 = calculate_wer(reference_text9, hypothesis_text9)\n",
        "print(f\"Word Error Rate (WER): {wer9}\")\n",
        "\n",
        "reference_text10 = \"finally, she administered ether\"\n",
        "hypothesis_text10 = \"finally she administrative\"\n",
        "wer10 = calculate_wer(reference_text10, hypothesis_text10)\n",
        "print(f\"Word Error Rate (WER): {wer10}\")"
      ],
      "metadata": {
        "id": "N2Yfn9mm_mIz"
      },
      "execution_count": null,
      "outputs": []
    },
    {
      "cell_type": "markdown",
      "source": [
        "### **❗🆘❗Compare each speaker's utterance with the reference text modified due to homophonous words between ether and either.**\n",
        "\n",
        "- Here I used sentence tokens from 10 speakers.\n",
        "- The reference text is \"finally she administed either\" 마침내 그녀는 에테르를 투여했다.(Here I used homophonous 'either' instead of 'ether')"
      ],
      "metadata": {
        "id": "HEIrhSH4K5ga"
      }
    },
    {
      "cell_type": "code",
      "source": [
        "!pip install python-Levenshtein\n",
        "import Levenshtein\n",
        "\n",
        "def calculate_wer(reference, hypothesis):\n",
        "    reference_words = reference.split()\n",
        "    hypothesis_words = hypothesis.split()\n",
        "\n",
        "    # Compute Levenshtein distance between the reference and hypothesis\n",
        "    distance = Levenshtein.distance(reference_words, hypothesis_words)\n",
        "\n",
        "    # Calculate Word Error Rate (WER)\n",
        "    wer = distance / len(reference_words)\n",
        "    return wer\n",
        "\n",
        "#Compare hypothesis with reference\n",
        "\n",
        "reference_text0 = \"finally she administered ether\" #No modification\n",
        "hypothesis_text0 = \"finally she administered ether\" #No modification\n",
        "wer1 = calculate_wer(reference_text0, hypothesis_text0)\n",
        "print(f\"Word Error Rate (WER): {wer1}\")\n",
        "\n",
        "reference_text1 = \"finally, she administered either\" #modified due to homophonous 'either', which is a more familiar word and ungrammatical in this particular case\n",
        "hypothesis_text1 = \"finally she admitted either\"\n",
        "wer1 = calculate_wer(reference_text1, hypothesis_text1)\n",
        "print(f\"Word Error Rate (WER): {wer1}\")\n",
        "\n",
        "reference_text2 = \"Finally, she administered either\" #modified due to homophonous 'either', which is a more familiar word and ungrammatical in this particular case\n",
        "hypothesis_text2 = \"finally she administered either\"\n",
        "wer2 = calculate_wer(reference_text2, hypothesis_text2)\n",
        "print(f\"Word Error Rate (WER): {wer2}\")\n",
        "\n",
        "reference_text3 = \"finally, she administered either\" #modified due to homophonous 'either', which is a more familiar word and ungrammatical in this particular case\n",
        "hypothesis_text3 = \"finally she ultimately\"\n",
        "wer3 = calculate_wer(reference_text3, hypothesis_text3)\n",
        "print(f\"Word Error Rate (WER): {wer3}\")\n",
        "\n",
        "reference_text4 = \"finally, she administered either\" #modified due to homophonous 'either', which is a more familiar word and ungrammatical in this particular case\n",
        "hypothesis_text4 = \"finally she old manuscript eater\"\n",
        "wer4 = calculate_wer(reference_text4, hypothesis_text4)\n",
        "print(f\"Word Error Rate (WER): {wer4}\")\n",
        "\n",
        "reference_text5 = \"finally, she administered either\" #modified due to homophonous 'either', which is a more familiar word and ungrammatical in this particular case\n",
        "hypothesis_text5 = \"finally she administer either\"\n",
        "wer5 = calculate_wer(reference_text5, hypothesis_text5)\n",
        "print(f\"Word Error Rate (WER): {wer5}\")\n",
        "\n",
        "reference_text6 = \"finally, she administered either\" #modified due to homophonous 'either', which is a more familiar word and ungrammatical in this particular case\n",
        "hypothesis_text6 = \"finally she organized 308 either\"\n",
        "wer6 = calculate_wer(reference_text6, hypothesis_text6)\n",
        "print(f\"Word Error Rate (WER): {wer6}\")\n",
        "\n",
        "reference_text7 = \"finally, she administered either\" #modified due to homophonous 'either', which is a more familiar word and ungrammatical in this particular case\n",
        "hypothesis_text7 = \"binary show The Mystery Theater\"\n",
        "wer7 = calculate_wer(reference_text7, hypothesis_text7)\n",
        "print(f\"Word Error Rate (WER): {wer7}\")\n",
        "\n",
        "reference_text8 = \"finally, she administered either\" #modified due to homophonous 'either', which is a more familiar word and ungrammatical in this particular case\n",
        "hypothesis_text8 = \"finally she administered either\"\n",
        "wer8 = calculate_wer(reference_text8, hypothesis_text8)\n",
        "print(f\"Word Error Rate (WER): {wer8}\")\n",
        "\n",
        "reference_text9 = \"finally, she administered either\" #modified due to homophonous 'either', which is a more familiar word and ungrammatical in this particular case\n",
        "hypothesis_text9 = \"finally she ordered Minister either\"\n",
        "wer9 = calculate_wer(reference_text9, hypothesis_text9)\n",
        "print(f\"Word Error Rate (WER): {wer9}\")\n",
        "\n",
        "reference_text10 = \"finally, she administered either\" #modified due to homophonous 'either', which is a more familiar word and ungrammatical in this particular case\n",
        "hypothesis_text10 = \"finally she administrative\"\n",
        "wer10 = calculate_wer(reference_text10, hypothesis_text10)\n",
        "print(f\"Word Error Rate (WER): {wer10}\")"
      ],
      "metadata": {
        "colab": {
          "base_uri": "https://localhost:8080/"
        },
        "id": "sWU6YXyTK3_B",
        "outputId": "3111686e-52eb-4722-e518-3463e1542558"
      },
      "execution_count": null,
      "outputs": [
        {
          "output_type": "stream",
          "name": "stdout",
          "text": [
            "Requirement already satisfied: python-Levenshtein in /usr/local/lib/python3.10/dist-packages (0.26.1)\n",
            "Requirement already satisfied: Levenshtein==0.26.1 in /usr/local/lib/python3.10/dist-packages (from python-Levenshtein) (0.26.1)\n",
            "Requirement already satisfied: rapidfuzz<4.0.0,>=3.9.0 in /usr/local/lib/python3.10/dist-packages (from Levenshtein==0.26.1->python-Levenshtein) (3.10.1)\n",
            "Word Error Rate (WER): 0.0\n",
            "Word Error Rate (WER): 0.5\n",
            "Word Error Rate (WER): 0.25\n",
            "Word Error Rate (WER): 0.75\n",
            "Word Error Rate (WER): 1.0\n",
            "Word Error Rate (WER): 0.5\n",
            "Word Error Rate (WER): 0.75\n",
            "Word Error Rate (WER): 1.25\n",
            "Word Error Rate (WER): 0.25\n",
            "Word Error Rate (WER): 0.75\n",
            "Word Error Rate (WER): 0.75\n"
          ]
        }
      ]
    }
  ]
}