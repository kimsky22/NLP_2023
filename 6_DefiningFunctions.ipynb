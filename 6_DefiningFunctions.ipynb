{
  "nbformat": 4,
  "nbformat_minor": 0,
  "metadata": {
    "colab": {
      "provenance": [],
      "include_colab_link": true
    },
    "kernelspec": {
      "name": "python3",
      "display_name": "Python 3"
    },
    "language_info": {
      "name": "python"
    }
  },
  "cells": [
    {
      "cell_type": "markdown",
      "metadata": {
        "id": "view-in-github",
        "colab_type": "text"
      },
      "source": [
        "<a href=\"https://colab.research.google.com/github/kimsky22/NLP_2023/blob/main/6_DefiningFunctions.ipynb\" target=\"_parent\"><img src=\"https://colab.research.google.com/assets/colab-badge.svg\" alt=\"Open In Colab\"/></a>"
      ]
    },
    {
      "cell_type": "markdown",
      "source": [
        "## **Function 함수**"
      ],
      "metadata": {
        "id": "Z7LCdzhzPZdZ"
      }
    },
    {
      "cell_type": "markdown",
      "source": [
        "### **Return** statement in a function\n",
        "\n",
        "- Functions with a <font color = 'red'>return</font> statement produce <font color = 'red'> a value as its result</font>, and the function execution stops at that point.\n",
        "- Functions without a return statement still execute but implicitly return None.\n",
        "- Whether to use a return statement depends on whether you want the function to produce a value <font color = 'red'>**that can be used elsewhere**</font> in your code. If you don't need to return a result, not having a return statement is perfectly fine."
      ],
      "metadata": {
        "id": "RexAen-aOyMx"
      }
    },
    {
      "cell_type": "code",
      "execution_count": null,
      "metadata": {
        "id": "v-gjA5sdhg68"
      },
      "outputs": [],
      "source": [
        "#1. string argument 문자열 인자\n",
        "#a.\n",
        "def add_txt(t1,t2):    #string을 이용했을 때, 리턴값이 없는 함수 예시\n",
        "  print (t1 + t2)\n",
        "\n",
        "#b\n",
        "def add_txt(t1, t2):    #string을 이용했을 때, 리턴값이 있는 함수 예시\n",
        "    result = t1 + t2\n",
        "    return result\n"
      ]
    },
    {
      "cell_type": "code",
      "source": [
        "def add_txt(t1,t2):\n",
        "  print (t1+t2)\n",
        "\n",
        "def add_txt(t1, t2):\n",
        "  result=t1+t2\n",
        "  return result"
      ],
      "metadata": {
        "id": "fcBnGNgFFRm2"
      },
      "execution_count": null,
      "outputs": []
    },
    {
      "cell_type": "code",
      "source": [
        "#1.b\n",
        "\n",
        "def add_txt(t1, t2):\n",
        "    result = t1 + t2\n",
        "    return result\n",
        "\n",
        "# Define two strings as arguments\n",
        "text1 = \"Hello, \"\n",
        "text2 = \"World!\"\n",
        "\n",
        "# Calling the add_txt function with the defined arguments\n",
        "combined_text = add_txt(text1, text2)\n",
        "\n",
        "# Printing the result\n",
        "print(combined_text)"
      ],
      "metadata": {
        "id": "fGQY9jpNTqPe",
        "outputId": "446262c2-129c-438f-a942-6131ab488988",
        "colab": {
          "base_uri": "https://localhost:8080/"
        }
      },
      "execution_count": null,
      "outputs": [
        {
          "output_type": "stream",
          "name": "stdout",
          "text": [
            "Hello, World!\n"
          ]
        }
      ]
    },
    {
      "cell_type": "code",
      "source": [
        "def add_txt(t1, t2):\n",
        "  result=t1+t2\n",
        "  return result\n",
        "\n",
        "text1=\"hello,\"\n",
        "text2=\"world!\"\n",
        "\n",
        "combined_text=add_txt(text1, text2)\n",
        "\n",
        "print(combined_text)"
      ],
      "metadata": {
        "id": "Z70r573WFl3n",
        "outputId": "7877dfa0-8bee-47af-8c7b-5aec319a1718",
        "colab": {
          "base_uri": "https://localhost:8080/"
        }
      },
      "execution_count": null,
      "outputs": [
        {
          "output_type": "stream",
          "name": "stdout",
          "text": [
            "hello,world!\n"
          ]
        }
      ]
    },
    {
      "cell_type": "code",
      "source": [
        "#2 number argument 숫자 인자\n",
        "#a\n",
        "def add_number(n1,n2):\n",
        "  print(n1 + n2)  #numbers를 이용했을 때, 리턴값이 없는 함수 예시\n",
        "\n",
        "#b\n",
        "def add_number(n1,n2):\n",
        "  result = n1 + n2     #numbers를 이용했을 때, 리턴값이 있는 함수 예시\n",
        "  return result"
      ],
      "metadata": {
        "id": "p9_K7wO1bexs"
      },
      "execution_count": null,
      "outputs": []
    },
    {
      "cell_type": "code",
      "source": [
        "def add_number(n1, n2):\n",
        "  print(n1+n2)\n",
        "\n",
        "def add_number(n1, n2):\n",
        "  result=n1+n2\n",
        "  return result"
      ],
      "metadata": {
        "id": "Lp6Yg9PdF_UN"
      },
      "execution_count": null,
      "outputs": []
    },
    {
      "cell_type": "markdown",
      "source": [
        "## 🐹🐾 **Place holders<font color = 'gray'>(자리 표시자)**\n",
        "  - %d and %s are placeholders used for string formatting.\n",
        "  - They are used in strings to represent where you want to insert specific values, such as numbers or strings. Here's what they mean:\n",
        "\n",
        "    - <font color = 'red'> %d: This is a placeholder for formatting **integers (decimal integers)**. When you use %d in a string, it's _replaced with an integer value_.</font>\n",
        "\n",
        "    - <font color = 'green'> %s: This is a placeholder for formatting **strings**. When you use %s in a string, it's _replaced with a string value_.\n",
        "\n"
      ],
      "metadata": {
        "id": "725iuSrMwFlJ"
      }
    },
    {
      "cell_type": "code",
      "source": [
        "#Example of place holders such as %d and %s\n",
        "\n",
        "name = \"Alice\"\n",
        "score = 95\n",
        "age = 18\n",
        "\n",
        "\n",
        "# Using %s and %d for string formatting\n",
        "test_result = \"You scored %d on the test.\" % score\n",
        "print(test_result)\n",
        "\n",
        "greeting = \"Hello, %s! You turn to finally %d years old finally.\" % (name, age)\n",
        "print(greeting)\n",
        "\n",
        "\n",
        "\n",
        "#Alternatively\n",
        "print(\"You scored %d on the test.\" %score)\n",
        "print(\"Hello, %s! You turn to finally %d years old finally.\" %(name, age))"
      ],
      "metadata": {
        "id": "icGcG4O3wMof",
        "outputId": "6cc9f550-9f0e-490f-c33e-f93fafdcad60",
        "colab": {
          "base_uri": "https://localhost:8080/"
        }
      },
      "execution_count": null,
      "outputs": [
        {
          "output_type": "stream",
          "name": "stdout",
          "text": [
            "You scored 95 on the test.\n",
            "Hello, Alice! You turn to finally 18 years old finally.\n",
            "You scored 95 on the test.\n",
            "Hello, Alice! You turn to finally 18 years old finally.\n"
          ]
        }
      ]
    },
    {
      "cell_type": "code",
      "source": [
        "name=\"alice\"\n",
        "socre=95\n",
        "age=18\n",
        "\n",
        "test_reult=\"you scored %d on the test.\" % socre\n",
        "print(test_reuslt)\n",
        "\n",
        "greeting=\"hello, %s! you turn to finally %d years old finally.\"%(name, age)\n",
        "print(greeting)\n",
        "\n",
        "pring(\"you scored %d on the test.\" %socre)\n",
        "print(\"hello, %s! you trun to finally %d years old finally. \" %(name, age))\n"
      ],
      "metadata": {
        "id": "ivYTuKs8g3Ff",
        "outputId": "b563f9ce-656d-4add-c0eb-cf56bc9a1cea",
        "colab": {
          "base_uri": "https://localhost:8080/",
          "height": 255
        }
      },
      "execution_count": null,
      "outputs": [
        {
          "output_type": "error",
          "ename": "NameError",
          "evalue": "ignored",
          "traceback": [
            "\u001b[0;31m---------------------------------------------------------------------------\u001b[0m",
            "\u001b[0;31mNameError\u001b[0m                                 Traceback (most recent call last)",
            "\u001b[0;32m<ipython-input-2-847160ab8419>\u001b[0m in \u001b[0;36m<cell line: 6>\u001b[0;34m()\u001b[0m\n\u001b[1;32m      4\u001b[0m \u001b[0;34m\u001b[0m\u001b[0m\n\u001b[1;32m      5\u001b[0m \u001b[0mtest_reult\u001b[0m\u001b[0;34m=\u001b[0m\u001b[0;34m\"you scored %d on the test.\"\u001b[0m \u001b[0;34m%\u001b[0m \u001b[0msocre\u001b[0m\u001b[0;34m\u001b[0m\u001b[0;34m\u001b[0m\u001b[0m\n\u001b[0;32m----> 6\u001b[0;31m \u001b[0mprint\u001b[0m\u001b[0;34m(\u001b[0m\u001b[0mtest_reuslt\u001b[0m\u001b[0;34m)\u001b[0m\u001b[0;34m\u001b[0m\u001b[0;34m\u001b[0m\u001b[0m\n\u001b[0m\u001b[1;32m      7\u001b[0m \u001b[0;34m\u001b[0m\u001b[0m\n\u001b[1;32m      8\u001b[0m \u001b[0mgreeting\u001b[0m\u001b[0;34m=\u001b[0m\u001b[0;34m\"hello, %s! you turn to finally %d years old finally.\"\u001b[0m\u001b[0;34m%\u001b[0m\u001b[0;34m(\u001b[0m\u001b[0mname\u001b[0m\u001b[0;34m,\u001b[0m \u001b[0mage\u001b[0m\u001b[0;34m)\u001b[0m\u001b[0;34m\u001b[0m\u001b[0;34m\u001b[0m\u001b[0m\n",
            "\u001b[0;31mNameError\u001b[0m: name 'test_reuslt' is not defined"
          ]
        }
      ]
    },
    {
      "cell_type": "code",
      "source": [
        "#2b\n",
        "\n",
        "def add(a, b):\n",
        "    result = a + b\n",
        "    return result\n",
        "\n",
        "num1 = 5\n",
        "num2 = 3\n",
        "\n",
        "sum_result = add(num1, num2)\n",
        "\n",
        "# Using the % operator for string formatting\n",
        "\n",
        "print(\"The sum of %d and %d is %d\" % (num1, num2, sum_result))"
      ],
      "metadata": {
        "id": "jDpKRpftWT0e",
        "outputId": "db94c7ff-87f8-463b-d805-b99af499a408",
        "colab": {
          "base_uri": "https://localhost:8080/"
        }
      },
      "execution_count": null,
      "outputs": [
        {
          "output_type": "stream",
          "name": "stdout",
          "text": [
            "The sum of 5 and 3 is 8\n"
          ]
        }
      ]
    },
    {
      "cell_type": "code",
      "source": [
        "def add(a,b):\n",
        "  result=a+b\n",
        "  return result\n",
        "\n",
        "num1=5\n",
        "num2=3\n",
        "\n",
        "sum_result=add(num1, num2)\n",
        "\n",
        "print(\"the sum of %d and %d is %d\"  %  (num1, num2, sum_result))"
      ],
      "metadata": {
        "id": "dPjnGwwGh3zW",
        "outputId": "a565510a-2603-498b-aa16-9027c0e86bd5",
        "colab": {
          "base_uri": "https://localhost:8080/"
        }
      },
      "execution_count": null,
      "outputs": [
        {
          "output_type": "stream",
          "name": "stdout",
          "text": [
            "the sum of 5 and 3 is 8\n"
          ]
        }
      ]
    },
    {
      "cell_type": "code",
      "source": [
        "#2b'\n",
        "\n",
        "def add_and_print(a, b):\n",
        "    result = a + b\n",
        "    print(\"The sum of %d and %d is %d\" % (a, b, result))\n",
        "    return result\n",
        "\n",
        "# Call the function\n",
        "sum_result = add_and_print(3, 4)"
      ],
      "metadata": {
        "id": "XNsEX5ijVCBJ",
        "outputId": "707eef14-ca3b-43de-a7a5-5473f515c587",
        "colab": {
          "base_uri": "https://localhost:8080/"
        }
      },
      "execution_count": null,
      "outputs": [
        {
          "output_type": "stream",
          "name": "stdout",
          "text": [
            "The sum of 3 and 4 is 7\n"
          ]
        }
      ]
    },
    {
      "cell_type": "code",
      "source": [
        "def add_and_print(a,b):\n",
        "  result=a+b\n",
        "  print(\"the sum of %d and %d is %d\" % (a,b,result))\n",
        "  return result\n",
        "\n",
        "sum_result=add_and_print(3,4)"
      ],
      "metadata": {
        "id": "o2s5cAd5ihG-",
        "outputId": "5c974b0f-32ca-4c4d-db1b-d2b4ad10f2f3",
        "colab": {
          "base_uri": "https://localhost:8080/"
        }
      },
      "execution_count": null,
      "outputs": [
        {
          "output_type": "stream",
          "name": "stdout",
          "text": [
            "the sum of 3 and 4 is 7\n"
          ]
        }
      ]
    },
    {
      "cell_type": "markdown",
      "source": [
        "##### ⚡ 키워드 인자: 함수 호출 때 괄호 안에 등호를 사용하여 표시할 때 이를 키워드 인자라고 한다. 예시 add_txt1(t1='My friend', t2='Python')\n",
        "##### ⚡ 기본 인자 (e.g., t2='Python'): 함수 호출 때 t2 위치에 실제 값을 전달하지 않아도 'Python'이 기본값으로 대입됨\n"
      ],
      "metadata": {
        "id": "pgqX3r2RVFyE"
      }
    },
    {
      "cell_type": "code",
      "source": [
        "# 위의 함수 정의 및 호출 이해 완료\n",
        "def add_txt1(t1,t2='Python'): #add_txt1은 t1과 t2를 ':'로 연결한 뒤 출력하는 함수다.\n",
        "  print(t1 + ':' + t2) # 연결 기호 + 실수 했음\n",
        "\n",
        "add_txt1('Best') #add_txt1 함수를 호출하고 있음. 기본값 t2='Python'을 사용하며 호출\n",
        "add_txt1(t1='My friend', t2='Python') #add_txt1 함수를 호출하고 있음. 인자 이름을 명시하며 (=키워드 인자를 사용하며) 호출\n",
        "add_txt1(t1='My buddy')\n",
        "\n"
      ],
      "metadata": {
        "id": "NqusozFRVQ8Z",
        "outputId": "a48bd19a-28fc-48d3-85c8-a32e963f5599",
        "colab": {
          "base_uri": "https://localhost:8080/"
        }
      },
      "execution_count": null,
      "outputs": [
        {
          "output_type": "stream",
          "name": "stdout",
          "text": [
            "Best:Python\n",
            "My friend:Python\n",
            "My buddy:Python\n"
          ]
        }
      ]
    },
    {
      "cell_type": "code",
      "source": [
        "def add_txt1(t1,t2='python'):\n",
        "  print(t1+':'+t2)\n",
        "\n",
        "add_txt1('best')\n",
        "add_txt1(t1='my friend', t2='python')\n",
        "add_txt1(t1='my buddy')"
      ],
      "metadata": {
        "id": "AGNgHFGBi62X",
        "outputId": "9c6b277a-2984-429e-ed4a-71effe41f086",
        "colab": {
          "base_uri": "https://localhost:8080/"
        }
      },
      "execution_count": null,
      "outputs": [
        {
          "output_type": "stream",
          "name": "stdout",
          "text": [
            "best:python\n",
            "my friend:python\n",
            "my buddy:python\n"
          ]
        }
      ]
    },
    {
      "cell_type": "markdown",
      "source": [
        "#### ⚡ **<font color = 'red'> 가변 인자 (*args) </font>**는 인자의 개수가 명확치 않을 때 사용한다.\n",
        "- #### Variable-length arguments (i.e., varargs) allow you to pass different numbers of arguments to a function, and the function can work with them flexibly.\n",
        "- #### The *args parameter collects all the positional arguments passed to the function and makes them accessible as a _tuple_ within the function.\n",
        "\n"
      ],
      "metadata": {
        "id": "SmGNZArBgZq_"
      }
    },
    {
      "cell_type": "code",
      "source": [
        "def func_uncertain(*args):\n",
        "  print(args)\n",
        "\n",
        "func_uncertain() #*args에 아무값도 전달 안하고 함수를 호출하면 빈 튜플로 결과가 출력된다.\n",
        "\n",
        "# Calling the function with different numbers of positional arguments\n",
        "func_uncertain(1, 2, 3)\n",
        "func_uncertain('apple', 'banana', 'cherry', 'date')\n",
        "func_uncertain(True)"
      ],
      "metadata": {
        "id": "hUWjH2ZNiiTM",
        "outputId": "84194242-58dc-48d6-932f-ad6c5a9d9f9f",
        "colab": {
          "base_uri": "https://localhost:8080/"
        }
      },
      "execution_count": null,
      "outputs": [
        {
          "output_type": "stream",
          "name": "stdout",
          "text": [
            "()\n",
            "(1, 2, 3)\n",
            "('apple', 'banana', 'cherry', 'date')\n",
            "(True,)\n"
          ]
        }
      ]
    },
    {
      "cell_type": "code",
      "source": [
        "def func_uncertain(*args):\n",
        "  print(args)\n",
        "\n",
        "func_uncertain()\n",
        "\n",
        "func_uncertain(1,2,3)\n",
        "func_uncertain('apple', 'banana', 'cherry', 'date')\n",
        "func_uncertain(True)"
      ],
      "metadata": {
        "id": "xAFqEq82jbLD",
        "outputId": "dc6ccaa4-a009-481a-b67b-ae17aca0083f",
        "colab": {
          "base_uri": "https://localhost:8080/"
        }
      },
      "execution_count": null,
      "outputs": [
        {
          "output_type": "stream",
          "name": "stdout",
          "text": [
            "()\n",
            "(1, 2, 3)\n",
            "('apple', 'banana', 'cherry', 'date')\n",
            "(True,)\n"
          ]
        }
      ]
    },
    {
      "cell_type": "markdown",
      "source": [
        "#### ⚡ <font color = 'blue'> 키워드 가변 인자 (**kwargs)</font>는 차후 어떤 키워드 인자가 필요한지 미확정 되었을 때 사용한다.\n",
        "- #### A <font color = 'blue'> **keyword argument**</font>, also known as a named argument, is a way to pass arguments to a function in a way that specifies **the parameter name along with the value**. In Python, you can use keyword arguments to make function calls more explicit and self-documenting by **explicitly naming the parameters you are providing values for**.\n"
      ],
      "metadata": {
        "id": "WXchx1DkjzML"
      }
    },
    {
      "cell_type": "code",
      "source": [
        "def func_kwa(width, height, **kwargs):  #함수 정의 때 TWO asterisks 인 것을 주의하자. 또한 인자는 string 이 아니기 때문에 ''를 동반 사용 X\n",
        "  print(kwargs)\n",
        "\n",
        "func_kwa(10, 20) #*kwargs에 아무값도 전달 안하면서 함수를 호출하면 empty dictionary(빈 사전)로 결과가 출력된다.\n",
        "func_kwa(10, 20, depth=30, color='blue') #kwargs(키워드인자) 두 개 추가."
      ],
      "metadata": {
        "id": "fJCbIeafeFcH",
        "outputId": "1fd65221-048f-4689-d60f-651fd32643ce",
        "colab": {
          "base_uri": "https://localhost:8080/"
        }
      },
      "execution_count": null,
      "outputs": [
        {
          "output_type": "stream",
          "name": "stdout",
          "text": [
            "{}\n",
            "{'depth': 30, 'color': 'blue'}\n"
          ]
        }
      ]
    },
    {
      "cell_type": "code",
      "source": [
        "def func_kwa(width, height, **kwargs):\n",
        "  print(kwargs)\n",
        "\n",
        "func_kwa(10, 20)\n",
        "func_kwa(10, 20, depth=30, color='blue')"
      ],
      "metadata": {
        "id": "T-HK4b9ij2Oh",
        "outputId": "2ed93999-2420-481b-833e-bf0532ce5078",
        "colab": {
          "base_uri": "https://localhost:8080/"
        }
      },
      "execution_count": null,
      "outputs": [
        {
          "output_type": "stream",
          "name": "stdout",
          "text": [
            "{}\n",
            "{'depth': 30, 'color': 'blue'}\n"
          ]
        }
      ]
    },
    {
      "cell_type": "markdown",
      "source": [
        "#####  🌀 리스트의 요소 중 하나가 function 함수인 경우"
      ],
      "metadata": {
        "id": "od69Xw-YnZl8"
      }
    },
    {
      "cell_type": "code",
      "source": [
        "def myfunction():\n",
        "  print ('Hello World!')\n",
        "\n",
        "list = [1, 2, myfunction]\n",
        "\n",
        "#아래 각 코드라인에서, 리스트에서 2 번째 요소가 myfunction 함수라서, myfunction 함수에 인자 자리 ( )를 넣는 것과 list[2]( )는 같은 code line으로 볼 수 있다.\n",
        "list[2]()\n",
        "myfunction()"
      ],
      "metadata": {
        "id": "zwR-XAzLxXz_",
        "outputId": "860f9009-fed2-43da-a3b1-42791d946f0b",
        "colab": {
          "base_uri": "https://localhost:8080/"
        }
      },
      "execution_count": null,
      "outputs": [
        {
          "output_type": "stream",
          "name": "stdout",
          "text": [
            "Hello World!\n",
            "Hello World!\n"
          ]
        }
      ]
    },
    {
      "cell_type": "code",
      "source": [
        "def myfunction():\n",
        "  print('hello world!')\n",
        "\n",
        "list=[1,2,myfunction]\n",
        "\n",
        "list[2]()\n",
        "myfunction()"
      ],
      "metadata": {
        "id": "K37nB4HSkMHN",
        "outputId": "2bae0628-4bf8-447a-9653-3ae89b41a58f",
        "colab": {
          "base_uri": "https://localhost:8080/"
        }
      },
      "execution_count": null,
      "outputs": [
        {
          "output_type": "stream",
          "name": "stdout",
          "text": [
            "hello world!\n",
            "hello world!\n"
          ]
        }
      ]
    },
    {
      "cell_type": "markdown",
      "source": [
        "## 🔥🐹🐶🐤🐭 <font color = 'organge'>**Find a basic Python textbook, read and exercise the content about functions thoroughly!**"
      ],
      "metadata": {
        "id": "6gRdfX6wktcA"
      }
    },
    {
      "cell_type": "code",
      "source": [
        "marks=[90, 25, 67, 45, 80]\n",
        "for number in range(len(marks)):\n",
        "  if marks[number] < 60:\n",
        "    continue\n",
        "  print(\"%d번 학생 축하합니다. 합격입니다. \"% (number+1))"
      ],
      "metadata": {
        "id": "h3i7BMwKlf9P",
        "outputId": "0ac8ce95-5bb7-4775-b040-62d1f2848fe5",
        "colab": {
          "base_uri": "https://localhost:8080/"
        }
      },
      "execution_count": 1,
      "outputs": [
        {
          "output_type": "stream",
          "name": "stdout",
          "text": [
            "1번 학생 축하합니다. 합격입니다. \n",
            "3번 학생 축하합니다. 합격입니다. \n",
            "5번 학생 축하합니다. 합격입니다. \n"
          ]
        }
      ]
    },
    {
      "cell_type": "code",
      "source": [
        "for i in range(2, 10):\n",
        "  for j in (1, 10):\n",
        "    print(i*j, end=\" \")\n",
        "  print('')"
      ],
      "metadata": {
        "id": "I-qwELzBoxiS",
        "outputId": "a9097d5e-f9d8-4164-bbf4-0c1e8f29cb0c",
        "colab": {
          "base_uri": "https://localhost:8080/"
        }
      },
      "execution_count": 2,
      "outputs": [
        {
          "output_type": "stream",
          "name": "stdout",
          "text": [
            "2 20 \n",
            "3 30 \n",
            "4 40 \n",
            "5 50 \n",
            "6 60 \n",
            "7 70 \n",
            "8 80 \n",
            "9 90 \n"
          ]
        }
      ]
    },
    {
      "cell_type": "code",
      "source": [
        "a=[1,2,3,4]\n",
        "result=[]\n",
        "for num in a:\n",
        "  result.append(num*3)\n",
        "\n",
        "print(result)"
      ],
      "metadata": {
        "id": "urNJqc80p1hG",
        "outputId": "712df10d-ef2a-4876-eff3-ad6a7ed1e72d",
        "colab": {
          "base_uri": "https://localhost:8080/"
        }
      },
      "execution_count": 3,
      "outputs": [
        {
          "output_type": "stream",
          "name": "stdout",
          "text": [
            "[3, 6, 9, 12]\n"
          ]
        }
      ]
    },
    {
      "cell_type": "code",
      "source": [
        "a=[1,2,3,4]\n",
        "result=[num*3 for num in a]\n",
        "print(result)"
      ],
      "metadata": {
        "id": "fKNuuJ5EqGyG",
        "outputId": "351a5f7f-f3a7-4ab6-a00c-2c6d01b327a1",
        "colab": {
          "base_uri": "https://localhost:8080/"
        }
      },
      "execution_count": 4,
      "outputs": [
        {
          "output_type": "stream",
          "name": "stdout",
          "text": [
            "[3, 6, 9, 12]\n"
          ]
        }
      ]
    },
    {
      "cell_type": "code",
      "source": [
        "a=[1,2,3,4]\n",
        "result=[num*3 for num in a if num%2==0]\n",
        "print(result)"
      ],
      "metadata": {
        "id": "-Z_5WwJWqRvO",
        "outputId": "55f2202c-12b8-49e2-f89d-610fa4c4de71",
        "colab": {
          "base_uri": "https://localhost:8080/"
        }
      },
      "execution_count": 6,
      "outputs": [
        {
          "output_type": "stream",
          "name": "stdout",
          "text": [
            "[6, 12]\n"
          ]
        }
      ]
    }
  ]
}